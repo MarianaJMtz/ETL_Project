{
 "cells": [
  {
   "cell_type": "code",
   "execution_count": 1,
   "metadata": {
    "collapsed": true
   },
   "outputs": [],
   "source": [
    "#Import dependencies\n",
    "import pandas as pd\n",
    "import numpy as np"
   ]
  },
  {
   "cell_type": "code",
   "execution_count": 2,
   "metadata": {
    "collapsed": true
   },
   "outputs": [],
   "source": [
    "#Import CSV file and read with Pandas\n",
    "Concursos_df = pd.read_csv(\"Concursos.csv\", encoding=\"ISO-8859-1\")"
   ]
  },
  {
   "cell_type": "code",
   "execution_count": 3,
   "metadata": {
    "collapsed": true
   },
   "outputs": [],
   "source": [
    "#Manipulate data frame to obtain desired tables\n",
    "Concursos_df = Concursos_df.drop(['Semestre', 'RAMO', 'ID_UR','UR', 'PUESTO', 'FOLIO_CONCURSO', 'FECHA_PUBLICACION',\\\n",
    "                                 'MES_PUBLICACION','AÑO_PUBLICACION','FECHA_RESOLUCION'], axis=1)\n",
    "Concursos_df = Concursos_df.drop(Concursos_df.columns[7], axis=1)"
   ]
  },
  {
   "cell_type": "code",
   "execution_count": 4,
   "metadata": {
    "collapsed": true
   },
   "outputs": [],
   "source": [
    "#Add a column containing the total of applications received\n",
    "Concursos_df['SOLICITUDES_TOTAL'] = Concursos_df['SOLICITUDES_ACEPTADAS'] + Concursos_df['SOLICITUDES_RECHAZADAS']"
   ]
  },
  {
   "cell_type": "code",
   "execution_count": 5,
   "metadata": {
    "collapsed": false
   },
   "outputs": [],
   "source": [
    "#Create table_1 using information from Concursos_df\n",
    "table_1 = pd.pivot_table(Concursos_df,index=[\"Ejercicio\",\"ID_RAMO\", 'NIVEL_SALARIAL','ESTATUS'],\\\n",
    "                         values=['SOLICITUDES_TOTAL',\"SOLICITUDES_ACEPTADAS\"],aggfunc=np.sum)\n",
    "table_1['%_ACEPTACION'] = (table_1['SOLICITUDES_ACEPTADAS'] / table_1['SOLICITUDES_TOTAL'])*100\n",
    "table_1 = table_1.drop(['SOLICITUDES_ACEPTADAS'], axis = 1)\n",
    "\n",
    "#Rename columns and indexes\n",
    "table_1 = table_1.rename(columns={'SOLICITUDES_TOTAL': 'solicitudes_total', '%_ACEPTACION':'porcentaje_aceptacion'})\n",
    "\n",
    "table_1.index.names = ['ejercicio', 'id_ramo', 'nivel_salarial', 'estatus']\n",
    "\n",
    "#Save table with the name used in MySQL\n",
    "job_applications = table_1"
   ]
  },
  {
   "cell_type": "code",
   "execution_count": 6,
   "metadata": {
    "collapsed": false
   },
   "outputs": [],
   "source": [
    "#Create table_2 using information from Concursos_df\n",
    "table_2 = Concursos_df.drop([\"ESTATUS\", \"SOLICITUDES_ACEPTADAS\", \"SOLICITUDES_RECHAZADAS\", \"SOLICITUDES_TOTAL\"], axis = 1)\n",
    "\n",
    "table_2['REMUNERACION_BRUTA'] = table_2['REMUNERACION_BRUTA'].str.replace(',','')\n",
    "\n",
    "table_2['REMUNERACION_BRUTA'] = table_2['REMUNERACION_BRUTA'].apply(pd.to_numeric, errors='coerce')\n",
    "\n",
    "table_2 = pd.pivot_table(table_2,index=[\"Ejercicio\",\"ID_RAMO\", 'NIVEL_SALARIAL'],\\\n",
    "                         values=['REMUNERACION_BRUTA'],aggfunc=np.mean)\n",
    "\n",
    "#Rename columns and indexes\n",
    "table_2 = table_2.rename(columns={'REMUNERACION_BRUTA': 'remuneracion_bruta'})\n",
    "table_2.index.names = ['ejercicio', 'id_ramo', 'nivel_salarial']\n",
    "\n",
    "#Save table with the name used in MySQL\n",
    "salaries = table_2\n"
   ]
  },
  {
   "cell_type": "code",
   "execution_count": 7,
   "metadata": {
    "collapsed": false
   },
   "outputs": [],
   "source": [
    "#Upload data from Auditorias.csv\n",
    "auditorias_df = pd.read_csv('Auditorias.csv', encoding='iso-8859-1')"
   ]
  },
  {
   "cell_type": "code",
   "execution_count": 8,
   "metadata": {
    "collapsed": false
   },
   "outputs": [],
   "source": [
    "#Manipulate data to create table_3\n",
    "auditorias_df_ext = auditorias_df[['RAMO', 'EJERCICIO', 'AUDITORÍAS_REALIZADAS', 'OBSERVACIONES_DETERMINADAS']].copy()\n",
    "table_3 = auditorias_df_ext.groupby(['RAMO', 'EJERCICIO']).sum()\n",
    "table_3 = table_3.rename(columns={'AUDITORÍAS_REALIZADAS':'AUDITORIAS', 'OBSERVACIONES_DETERMINADAS':'SANCIONES'})\n",
    "table_3['AUD/SUM'] = table_3['AUDITORIAS'] / table_3['SANCIONES']\n",
    "\n",
    "#Rename columns and indexes\n",
    "table_3 = table_3.rename(columns={'AUDITORIAS': 'auditorias', 'SANCIONES':'sanciones', 'AUD/SUM': 'aud/sum'})\n",
    "table_3.index.names = ['id_ramo', 'ejercicio']\n",
    "\n",
    "#Save table with the name used in MySQL\n",
    "auditorias_sanciones = table_3"
   ]
  },
  {
   "cell_type": "code",
   "execution_count": 9,
   "metadata": {
    "collapsed": false
   },
   "outputs": [],
   "source": [
    "#Upload data from ECCO.csv\n",
    "ecco_df = pd.read_csv('ECCO.csv', encoding='iso-8859-1')"
   ]
  },
  {
   "cell_type": "code",
   "execution_count": 10,
   "metadata": {
    "collapsed": false
   },
   "outputs": [],
   "source": [
    "#Manipulate data to create table_4\n",
    "ecco_df_extract = ecco_df[['RAMO', 'AÑO', 'INDICE DE SATISFACCIÓN LABORAL']].copy()\n",
    "table_4 = ecco_df_extract.groupby(['RAMO', 'AÑO']).mean()\n",
    "table_4 = ecco_df_extract.rename(columns={'INDICE DE SATISFACCIÓN LABORAL':'PROMEDIO ECCO'})\n",
    "\n",
    "#Rename columns \n",
    "table_4 = table_4.rename(columns={'RAMO': 'id_ramo', 'AÑO':'anio', 'PROMEDIO ECCO' : 'promedio_ecco'})\n",
    "\n",
    "#Save table with the name used in MySQL\n",
    "mean_satisfaction = table_4\n"
   ]
  },
  {
   "cell_type": "code",
   "execution_count": 11,
   "metadata": {
    "collapsed": false
   },
   "outputs": [],
   "source": [
    "#Create table_5 using data from ecco_df\n",
    "table_5 = ecco_df[['RAMO', 'RAMO DESCRIPCION']].copy()\n",
    "table_5 = table_5.drop_duplicates()\n",
    "\n",
    "#Rename columns\n",
    "table_5 = table_5.rename(columns={'RAMO': 'id_ramo', 'RAMO DESCRIPCION':'ramo_descripcion'})\n",
    "\n",
    "#Save table with the name used in MySQL\n",
    "ramo_description = table_5\n"
   ]
  }
 ],
 "metadata": {
  "anaconda-cloud": {},
  "kernelspec": {
   "display_name": "Python [conda env:Anaconda3]",
   "language": "python",
   "name": "conda-env-Anaconda3-py"
  },
  "language_info": {
   "codemirror_mode": {
    "name": "ipython",
    "version": 3
   },
   "file_extension": ".py",
   "mimetype": "text/x-python",
   "name": "python",
   "nbconvert_exporter": "python",
   "pygments_lexer": "ipython3",
   "version": "3.5.6"
  }
 },
 "nbformat": 4,
 "nbformat_minor": 1
}
